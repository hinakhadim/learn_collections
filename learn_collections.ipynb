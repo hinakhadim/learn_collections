{
 "cells": [
  {
   "cell_type": "code",
   "execution_count": 54,
   "metadata": {},
   "outputs": [
    {
     "name": "stdout",
     "output_type": "stream",
     "text": [
      "The Zen of Python, by Tim Peters\n",
      "\n",
      "Beautiful is better than ugly.\n",
      "Explicit is better than implicit.\n",
      "Simple is better than complex.\n",
      "Complex is better than complicated.\n",
      "Flat is better than nested.\n",
      "Sparse is better than dense.\n",
      "Readability counts.\n",
      "Special cases aren't special enough to break the rules.\n",
      "Although practicality beats purity.\n",
      "Errors should never pass silently.\n",
      "Unless explicitly silenced.\n",
      "In the face of ambiguity, refuse the temptation to guess.\n",
      "There should be one-- and preferably only one --obvious way to do it.\n",
      "Although that way may not be obvious at first unless you're Dutch.\n",
      "Now is better than never.\n",
      "Although never is often better than *right* now.\n",
      "If the implementation is hard to explain, it's a bad idea.\n",
      "If the implementation is easy to explain, it may be a good idea.\n",
      "Namespaces are one honking great idea -- let's do more of those!\n"
     ]
    }
   ],
   "source": [
    "import this"
   ]
  },
  {
   "cell_type": "code",
   "execution_count": 1,
   "metadata": {},
   "outputs": [
    {
     "name": "stdout",
     "output_type": "stream",
     "text": [
      "\u001b[0;31mType:\u001b[0m        module\n",
      "\u001b[0;31mString form:\u001b[0m <module 'collections' from '/Library/Frameworks/Python.framework/Versions/3.10/lib/python3.10/collections/__init__.py'>\n",
      "\u001b[0;31mFile:\u001b[0m        /Library/Frameworks/Python.framework/Versions/3.10/lib/python3.10/collections/__init__.py\n",
      "\u001b[0;31mDocstring:\u001b[0m  \n",
      "This module implements specialized container datatypes providing\n",
      "alternatives to Python's general purpose built-in containers, dict,\n",
      "list, set, and tuple.\n",
      "\n",
      "* namedtuple   factory function for creating tuple subclasses with named fields\n",
      "* deque        list-like container with fast appends and pops on either end\n",
      "* ChainMap     dict-like class for creating a single view of multiple mappings\n",
      "* Counter      dict subclass for counting hashable objects\n",
      "* OrderedDict  dict subclass that remembers the order entries were added\n",
      "* defaultdict  dict subclass that calls a factory function to supply missing values\n",
      "* UserDict     wrapper around dictionary objects for easier dict subclassing\n",
      "* UserList     wrapper around list objects for easier list subclassing\n",
      "* UserString   wrapper around string objects for easier string subclassing\n"
     ]
    }
   ],
   "source": [
    "import collections\n",
    "\n",
    "collections?"
   ]
  },
  {
   "cell_type": "code",
   "execution_count": 2,
   "metadata": {},
   "outputs": [
    {
     "data": {
      "text/plain": [
       "(2, 2)"
      ]
     },
     "execution_count": 2,
     "metadata": {},
     "output_type": "execute_result"
    }
   ],
   "source": [
    "divmod(12,5)"
   ]
  },
  {
   "cell_type": "markdown",
   "metadata": {},
   "source": [
    "## NamedTuple in Python"
   ]
  },
  {
   "cell_type": "code",
   "execution_count": 6,
   "metadata": {},
   "outputs": [
    {
     "name": "stdout",
     "output_type": "stream",
     "text": [
      "<class '__main__.Divmod'>\n",
      "Divmod(quotient=2, remainder=2)\n",
      "===========\n",
      "2 2\n"
     ]
    }
   ],
   "source": [
    "from collections import namedtuple\n",
    "\n",
    "\n",
    "def custom_divmod(x, y):\n",
    "    DivMod = namedtuple('Divmod', ['quotient', 'remainder'])\n",
    "    print(DivMod)\n",
    "    return DivMod(*divmod(x,y))\n",
    "\n",
    "result = custom_divmod(12, 5)\n",
    "print(result)\n",
    "\n",
    "print(\"===========\")\n",
    "print(result.quotient, result.remainder)"
   ]
  },
  {
   "cell_type": "markdown",
   "metadata": {},
   "source": [
    "### Ways to declare fields"
   ]
  },
  {
   "cell_type": "code",
   "execution_count": 9,
   "metadata": {},
   "outputs": [
    {
     "name": "stdout",
     "output_type": "stream",
     "text": [
      "Point 1 :  Point1(x=2, y=3) 2 3 2 3\n",
      "Point2 :  Point2(x=10, y=12)\n",
      "Point3 :  Point3(x=100, y=200)\n"
     ]
    }
   ],
   "source": [
    "## Ways to describe fields in python in namedtuples\n",
    "\n",
    "# Way 1\n",
    "Point1 = namedtuple(\"Point1\", ['x','y'])\n",
    "\n",
    "# Way 2\n",
    "Point2 = namedtuple(\"Point2\",\"x, y\")\n",
    "\n",
    "# Way 3\n",
    "Point3 = namedtuple(\"Point3\", 'x y')\n",
    "\n",
    "p1 = Point1(2,3)\n",
    "p2 = Point2(10,12)\n",
    "p3 = Point3(100, 200)\n",
    "\n",
    "print(\"Point 1 : \",p1, p1.x, p1.y, p1[0], p1[1])\n",
    "print(\"Point2 : \",p2)\n",
    "print(\"Point3 : \", p3)"
   ]
  },
  {
   "cell_type": "markdown",
   "metadata": {},
   "source": [
    "### Defaults"
   ]
  },
  {
   "cell_type": "code",
   "execution_count": 12,
   "metadata": {},
   "outputs": [
    {
     "name": "stdout",
     "output_type": "stream",
     "text": [
      "Person(name='Hina Khadim', job='Software Engineer')\n",
      "{'name': 'Hina Khadim', 'job': 'Software Engineer'}\n",
      "Person(name='Hina Khadim', job='Web Developer')\n",
      "Person(name='Hina Khadim', job='Software Engineer')\n"
     ]
    }
   ],
   "source": [
    "Person = namedtuple(\"Person\", \"name job\", defaults=['Software Engineer'])\n",
    "\n",
    "person = Person(\"Hina Khadim\")\n",
    "print(person)\n",
    "\n",
    "print(person._asdict())\n",
    "\n",
    "print(person._replace(job=\"Web Developer\"))  # returns new tuple\n",
    "print(person)\n"
   ]
  },
  {
   "cell_type": "markdown",
   "metadata": {},
   "source": [
    "## Deque"
   ]
  },
  {
   "cell_type": "code",
   "execution_count": 28,
   "metadata": {},
   "outputs": [
    {
     "name": "stdout",
     "output_type": "stream",
     "text": [
      "deque(['grapes', 'orange', 'banana', 'mango', 'apple'])\n",
      "Pop first element  apple\n",
      "Queue length :  4\n"
     ]
    }
   ],
   "source": [
    "from collections import deque\n",
    "from numbers import Number\n",
    "\n",
    "class Queue:\n",
    "    def __init__(self) -> None:\n",
    "        self.queue = deque()\n",
    "\n",
    "    def enque(self, item) -> None:\n",
    "        self.queue.appendleft(item)\n",
    "\n",
    "    def deque(self) -> any:\n",
    "        return self.queue.pop()\n",
    "\n",
    "    def length(self) -> Number:\n",
    "        return self.queue.__len__()\n",
    "\n",
    "\n",
    "fruits = ['apple', 'mango', 'banana', 'orange', 'grapes']\n",
    "queue = Queue()\n",
    "\n",
    "for fruit in fruits:\n",
    "    queue.enque(fruit)\n",
    "\n",
    "print(queue.queue)\n",
    "\n",
    "print(\"Pop first element \" ,queue.deque())\n",
    "print(\"Queue length : \", queue.length())"
   ]
  },
  {
   "cell_type": "markdown",
   "metadata": {},
   "source": [
    "> Note : We can also provide maxlen to deque in that case, the entry at opposit end will be discarded"
   ]
  },
  {
   "cell_type": "markdown",
   "metadata": {},
   "source": [
    "## default dict"
   ]
  },
  {
   "cell_type": "code",
   "execution_count": 29,
   "metadata": {},
   "outputs": [
    {
     "ename": "KeyError",
     "evalue": "'grapes'",
     "output_type": "error",
     "traceback": [
      "\u001b[0;31m---------------------------------------------------------------------------\u001b[0m",
      "\u001b[0;31mKeyError\u001b[0m                                  Traceback (most recent call last)",
      "\u001b[1;32m/Users/hinakhadim/Documents/Arbisoft/Python/learn_collections.ipynb Cell 13\u001b[0m in \u001b[0;36m<cell line: 3>\u001b[0;34m()\u001b[0m\n\u001b[1;32m      <a href='vscode-notebook-cell:/Users/hinakhadim/Documents/Arbisoft/Python/learn_collections.ipynb#X14sZmlsZQ%3D%3D?line=0'>1</a>\u001b[0m fruits \u001b[39m=\u001b[39m {\u001b[39m'\u001b[39m\u001b[39mapple\u001b[39m\u001b[39m'\u001b[39m : \u001b[39m5\u001b[39m, \u001b[39m'\u001b[39m\u001b[39mbananas\u001b[39m\u001b[39m'\u001b[39m : \u001b[39m10\u001b[39m, \u001b[39m'\u001b[39m\u001b[39moranges\u001b[39m\u001b[39m'\u001b[39m : \u001b[39m12\u001b[39m}\n\u001b[0;32m----> <a href='vscode-notebook-cell:/Users/hinakhadim/Documents/Arbisoft/Python/learn_collections.ipynb#X14sZmlsZQ%3D%3D?line=2'>3</a>\u001b[0m \u001b[39mprint\u001b[39m(fruits[\u001b[39m'\u001b[39;49m\u001b[39mgrapes\u001b[39;49m\u001b[39m'\u001b[39;49m])\n",
      "\u001b[0;31mKeyError\u001b[0m: 'grapes'"
     ]
    }
   ],
   "source": [
    "fruits = {'apple' : 5, 'bananas' : 10, 'oranges' : 12}\n",
    "\n",
    "print(fruits['grapes'])\n"
   ]
  },
  {
   "cell_type": "code",
   "execution_count": 34,
   "metadata": {},
   "outputs": [
    {
     "name": "stdout",
     "output_type": "stream",
     "text": [
      "1\n",
      "{'apple': 5, 'bananas': 10, 'oranges': 12, 'grapes': 1}\n",
      "Default value to return\n",
      "{'apple': 5, 'bananas': 10, 'oranges': 12, 'grapes': 1}\n",
      "None\n"
     ]
    }
   ],
   "source": [
    "print(fruits.setdefault('grapes', 1))\n",
    "print(fruits)\n",
    "\n",
    "print(fruits.get(\"tomatoes\", 'Default value to return'))\n",
    "print(fruits)\n",
    "\n",
    "print(fruits.get(\"mango\"))"
   ]
  },
  {
   "cell_type": "code",
   "execution_count": 35,
   "metadata": {},
   "outputs": [
    {
     "name": "stdout",
     "output_type": "stream",
     "text": [
      "defaultdict(<class 'list'>, {'dog': ['Affenpinscher', 'Terrier', 'Boxer'], 'cat': ['Abyssinian', 'Birman']})\n"
     ]
    }
   ],
   "source": [
    "from collections import defaultdict\n",
    "\n",
    "pets = [\n",
    "    (\"dog\", \"Affenpinscher\"),\n",
    "    (\"dog\", \"Terrier\"),\n",
    "    (\"dog\", \"Boxer\"),\n",
    "    (\"cat\", \"Abyssinian\"),\n",
    "    (\"cat\", \"Birman\"),\n",
    "]\n",
    "\n",
    "group_pets = defaultdict(list)\n",
    "\n",
    "for pet, breed in pets:\n",
    "    group_pets[pet].append(breed)\n",
    "\n",
    "print(group_pets)"
   ]
  },
  {
   "cell_type": "markdown",
   "metadata": {},
   "source": [
    "## OrderedDict"
   ]
  },
  {
   "cell_type": "code",
   "execution_count": 38,
   "metadata": {},
   "outputs": [
    {
     "name": "stdout",
     "output_type": "stream",
     "text": [
      "{'first': 1, 'second': 2, 'third': 3, 'fourth': 4}\n",
      "{'first': 1, 'second': 2, 'third': 3, 'fourth': 4, 'beta': 5, 'alpha': 6}\n",
      "Ordered _ Dict :  OrderedDict([('school', 1), ('college', 2), ('university', 3), ('job', 4)])\n"
     ]
    }
   ],
   "source": [
    "from collections import OrderedDict\n",
    "\n",
    "\n",
    "normal_dict = {'first' : 1, 'second' : 2, 'third' : 3, 'fourth' : 4}\n",
    "print(normal_dict)\n",
    "\n",
    "normal_dict['beta'] = 5\n",
    "normal_dict['alpha'] = 6\n",
    "\n",
    "print(normal_dict)\n",
    "\n",
    "\n",
    "order_dict = OrderedDict()\n",
    "order_dict['school'] = 1\n",
    "order_dict['college'] = 2\n",
    "order_dict['university'] = 3\n",
    "order_dict['job'] = 4\n",
    "\n",
    "print(\"Ordered _ Dict : \",order_dict)"
   ]
  },
  {
   "cell_type": "markdown",
   "metadata": {},
   "source": [
    "> Normal Dict compares only content while Ordered Dict compares content and order"
   ]
  },
  {
   "cell_type": "markdown",
   "metadata": {},
   "source": [
    "## Counter"
   ]
  },
  {
   "cell_type": "code",
   "execution_count": 41,
   "metadata": {},
   "outputs": [
    {
     "name": "stdout",
     "output_type": "stream",
     "text": [
      "Counter({'i': 4, 's': 3, 'M': 1, 'p': 1})\n"
     ]
    }
   ],
   "source": [
    "from collections import Counter\n",
    "\n",
    "counter = Counter(\"Missisipi\")\n",
    "print(counter)"
   ]
  },
  {
   "cell_type": "markdown",
   "metadata": {},
   "source": [
    "## Chaining Dictionaries"
   ]
  },
  {
   "cell_type": "code",
   "execution_count": 51,
   "metadata": {},
   "outputs": [
    {
     "name": "stdout",
     "output_type": "stream",
     "text": [
      "ChainMap({}, {'proxy': 'local.com'}, {'proxy': 'global.com'})\n",
      "Proxy :  local.com\n",
      "Config maps :  [{}, {'proxy': 'local.com'}, {'proxy': 'global.com'}]\n",
      "Config Parent :  ChainMap({'proxy': 'local.com'}, {'proxy': 'global.com'})\n",
      "Config  ChainMap({}, {'proxy': 'local.com'}, {'proxy': 'global.com'})\n",
      "Updated Config :  ChainMap({'proxy': 'updating proxy...'}, {'proxy': 'local.com'}, {'proxy': 'global.com'})\n",
      "After popping proxy :  ChainMap({}, {'proxy': 'local.com'}, {'proxy': 'global.com'})\n"
     ]
    }
   ],
   "source": [
    "from collections import ChainMap\n",
    "\n",
    "cmd_proxy = {}\n",
    "local_proxy = {'proxy' : \"local.com\"}\n",
    "global_proxy = {'proxy' : \"global.com\"}\n",
    "\n",
    "config = ChainMap(cmd_proxy, local_proxy, global_proxy)\n",
    "\n",
    "print(config)\n",
    "print(\"Proxy : \",config['proxy'])\n",
    "print(\"Config maps : \",config.maps)\n",
    "\n",
    "config.new_child({'proxy' : \"Special proxy\"})\n",
    "\n",
    "print(\"Config Parent : \",config.parents)\n",
    "print(\"Config \",config)\n",
    "\n",
    "\n",
    "config['proxy'] = \"updating proxy...\"\n",
    "print(\"Updated Config : \", config)\n",
    "\n",
    "config.pop(\"proxy\")\n",
    "print(\"After popping proxy : \",config)\n",
    "\n"
   ]
  },
  {
   "cell_type": "markdown",
   "metadata": {},
   "source": [
    "### Customized Built-ins"
   ]
  },
  {
   "cell_type": "markdown",
   "metadata": {},
   "source": [
    "### UserString\n",
    "\n",
    "Used to modify string functionalities. such as allow adding characters one by one. means customize the strings"
   ]
  },
  {
   "cell_type": "markdown",
   "metadata": {},
   "source": [
    "## Learn python collections from :\n",
    "\n",
    "- https://realpython.com/python-collections-module/\n",
    "- https://www.geeksforgeeks.org/python-collections-module/#userdict\n",
    "\n",
    "## Learn Code cleaning from :\n",
    "\n",
    "- https://testdriven.io/blog/clean-code-python/#naming-conventions\n",
    "- https://github.com/zedr/clean-code-python"
   ]
  },
  {
   "cell_type": "markdown",
   "metadata": {},
   "source": [
    "## Scrapy"
   ]
  },
  {
   "cell_type": "code",
   "execution_count": null,
   "metadata": {},
   "outputs": [],
   "source": [
    "# learning now"
   ]
  },
  {
   "cell_type": "code",
   "execution_count": 19,
   "metadata": {},
   "outputs": [
    {
     "name": "stdout",
     "output_type": "stream",
     "text": [
      "The original list is : [1, 4, 5, 6, 7]\n",
      "The even numbers in list are :  "
     ]
    }
   ],
   "source": [
    "def print_even(test_list):\n",
    "    for i in test_list:\n",
    "        print(i)\n",
    "        yield i\n",
    " \n",
    "# initializing list\n",
    "test_list = [1, 4, 5, 6, 7]\n",
    " \n",
    "# printing initial list\n",
    "print(\"The original list is : \" + str(test_list))\n",
    " \n",
    "# printing even numbers\n",
    "print(\"The even numbers in list are : \", end=\" \")\n"
   ]
  },
  {
   "cell_type": "code",
   "execution_count": 20,
   "metadata": {},
   "outputs": [],
   "source": [
    "gen = print_even(test_list)"
   ]
  },
  {
   "cell_type": "code",
   "execution_count": 23,
   "metadata": {},
   "outputs": [
    {
     "name": "stdout",
     "output_type": "stream",
     "text": [
      "5\n"
     ]
    },
    {
     "data": {
      "text/plain": [
       "5"
      ]
     },
     "execution_count": 23,
     "metadata": {},
     "output_type": "execute_result"
    }
   ],
   "source": [
    "next(gen)"
   ]
  },
  {
   "cell_type": "code",
   "execution_count": 24,
   "metadata": {},
   "outputs": [
    {
     "ename": "NameError",
     "evalue": "name 'html' is not defined",
     "output_type": "error",
     "traceback": [
      "\u001b[0;31m---------------------------------------------------------------------------\u001b[0m",
      "\u001b[0;31mNameError\u001b[0m                                 Traceback (most recent call last)",
      "\u001b[1;32m/Users/hinakhadim/Documents/Arbisoft/Python/learning_collections/learn_collections.ipynb Cell 32\u001b[0m in \u001b[0;36m<cell line: 1>\u001b[0;34m()\u001b[0m\n\u001b[0;32m----> <a href='vscode-notebook-cell:/Users/hinakhadim/Documents/Arbisoft/Python/learning_collections/learn_collections.ipynb#X52sZmlsZQ%3D%3D?line=0'>1</a>\u001b[0m html\u001b[39m/\u001b[39mbody\u001b[39m/\u001b[39mdiv\u001b[39m/\u001b[39mdiv[\u001b[39m2\u001b[39m]\u001b[39m/\u001b[39mdiv[\u001b[39m1\u001b[39m]\u001b[39m/\u001b[39mdiv[\u001b[39m1\u001b[39m]\u001b[39m/\u001b[39mspan[\u001b[39m1\u001b[39m],()\n",
      "\u001b[0;31mNameError\u001b[0m: name 'html' is not defined"
     ]
    }
   ],
   "source": [
    "/html/body/div/div[2]/div[1]/div[1]/span[1],\n",
    "body > div > div:nth-child(2) > div.col-md-8 > div:nth-child(1) > span:nth-child(2) > a\n",
    "/html/body/div/div[2]/div[1]/div[1]/span[2]/a\n"
   ]
  },
  {
   "cell_type": "code",
   "execution_count": null,
   "metadata": {},
   "outputs": [],
   "source": [
    "print(\"hello\")"
   ]
  }
 ],
 "metadata": {
  "kernelspec": {
   "display_name": "Python 3.10.6 64-bit",
   "language": "python",
   "name": "python3"
  },
  "language_info": {
   "codemirror_mode": {
    "name": "ipython",
    "version": 3
   },
   "file_extension": ".py",
   "mimetype": "text/x-python",
   "name": "python",
   "nbconvert_exporter": "python",
   "pygments_lexer": "ipython3",
   "version": "3.10.6"
  },
  "orig_nbformat": 4,
  "vscode": {
   "interpreter": {
    "hash": "aee8b7b246df8f9039afb4144a1f6fd8d2ca17a180786b69acc140d282b71a49"
   }
  }
 },
 "nbformat": 4,
 "nbformat_minor": 2
}
